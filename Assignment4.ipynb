{
  "nbformat": 4,
  "nbformat_minor": 0,
  "metadata": {
    "colab": {
      "provenance": []
    },
    "kernelspec": {
      "name": "python3",
      "display_name": "Python 3"
    },
    "language_info": {
      "name": "python"
    }
  },
  "cells": [
    {
      "cell_type": "code",
      "execution_count": null,
      "metadata": {
        "id": "nws_RApdou3J"
      },
      "outputs": [],
      "source": [
        "#Create a NumPy array of integers from 1 to 10"
      ]
    },
    {
      "cell_type": "code",
      "source": [
        "import numpy as np"
      ],
      "metadata": {
        "id": "O_xcOzZopNJo"
      },
      "execution_count": null,
      "outputs": []
    },
    {
      "cell_type": "code",
      "source": [
        "arr=np.arange(1,11)\n",
        "arr"
      ],
      "metadata": {
        "colab": {
          "base_uri": "https://localhost:8080/"
        },
        "id": "IKAQGA86o9k4",
        "outputId": "851b3ba6-9176-4d5f-fbe6-56af74d66a65"
      },
      "execution_count": null,
      "outputs": [
        {
          "output_type": "execute_result",
          "data": {
            "text/plain": [
              "array([ 1,  2,  3,  4,  5,  6,  7,  8,  9, 10])"
            ]
          },
          "metadata": {},
          "execution_count": 5
        }
      ]
    },
    {
      "cell_type": "code",
      "source": [
        "#Create a 2x3 NumPy array filled with zeros."
      ],
      "metadata": {
        "id": "ixMVS9gHpJMH"
      },
      "execution_count": null,
      "outputs": []
    },
    {
      "cell_type": "code",
      "source": [
        "np.zeros((2,3))"
      ],
      "metadata": {
        "colab": {
          "base_uri": "https://localhost:8080/"
        },
        "id": "GoTryNunpYIm",
        "outputId": "e806e277-e716-4ef9-cf36-4fef30b2315b"
      },
      "execution_count": null,
      "outputs": [
        {
          "output_type": "execute_result",
          "data": {
            "text/plain": [
              "array([[0., 0., 0.],\n",
              "       [0., 0., 0.]])"
            ]
          },
          "metadata": {},
          "execution_count": 7
        }
      ]
    },
    {
      "cell_type": "code",
      "source": [
        "#Create a NumPy array of even numbers from 2 to 20"
      ],
      "metadata": {
        "id": "YPZ84QaapdTG"
      },
      "execution_count": null,
      "outputs": []
    },
    {
      "cell_type": "code",
      "source": [
        "arr=np.arange(2,21,2)"
      ],
      "metadata": {
        "id": "_hX48jjYpuqm"
      },
      "execution_count": null,
      "outputs": []
    },
    {
      "cell_type": "code",
      "source": [
        "arr"
      ],
      "metadata": {
        "colab": {
          "base_uri": "https://localhost:8080/"
        },
        "id": "C8gPuNxVp0S3",
        "outputId": "0693cd43-ff88-47a8-be22-a12be59d2eb3"
      },
      "execution_count": null,
      "outputs": [
        {
          "output_type": "execute_result",
          "data": {
            "text/plain": [
              "array([ 2,  4,  6,  8, 10, 12, 14, 16, 18, 20])"
            ]
          },
          "metadata": {},
          "execution_count": 10
        }
      ]
    },
    {
      "cell_type": "markdown",
      "source": [
        "4.Given two NumPy arrays, arr1 = np.array([1, 2, 3]) and arr2 = np.array([4,\n",
        "5, 6]), perform element-wise addition, subtraction, multiplication, and\n",
        "division between the two arrays"
      ],
      "metadata": {
        "id": "AN2fkIreqH_X"
      }
    },
    {
      "cell_type": "code",
      "source": [
        "arr1=np.array([1,2,3])\n",
        "arr2=np.array([4,5,6])\n",
        "arr3=arr1+arr2\n",
        "arr4=arr1-arr2\n",
        "arr5=arr1*arr2\n",
        "arr6=arr2/arr1"
      ],
      "metadata": {
        "id": "cnG10kyIp1an"
      },
      "execution_count": null,
      "outputs": []
    },
    {
      "cell_type": "code",
      "source": [
        "arr3"
      ],
      "metadata": {
        "colab": {
          "base_uri": "https://localhost:8080/"
        },
        "id": "1tjUyhkep9IG",
        "outputId": "ea89748c-a92b-4961-c3c9-ebb5d99c11b6"
      },
      "execution_count": null,
      "outputs": [
        {
          "output_type": "execute_result",
          "data": {
            "text/plain": [
              "array([5, 7, 9])"
            ]
          },
          "metadata": {},
          "execution_count": 18
        }
      ]
    },
    {
      "cell_type": "code",
      "source": [
        "arr4"
      ],
      "metadata": {
        "colab": {
          "base_uri": "https://localhost:8080/"
        },
        "id": "2PlbdAU7qfMG",
        "outputId": "47da8644-4376-44e6-8423-58780c074eeb"
      },
      "execution_count": null,
      "outputs": [
        {
          "output_type": "execute_result",
          "data": {
            "text/plain": [
              "array([-3, -3, -3])"
            ]
          },
          "metadata": {},
          "execution_count": 12
        }
      ]
    },
    {
      "cell_type": "code",
      "source": [
        "arr5"
      ],
      "metadata": {
        "colab": {
          "base_uri": "https://localhost:8080/"
        },
        "id": "cKIEmjoKqh72",
        "outputId": "c86b4482-39c2-48b1-faf8-e48e6c004455"
      },
      "execution_count": null,
      "outputs": [
        {
          "output_type": "execute_result",
          "data": {
            "text/plain": [
              "array([ 4, 10, 18])"
            ]
          },
          "metadata": {},
          "execution_count": 13
        }
      ]
    },
    {
      "cell_type": "code",
      "source": [
        "arr6"
      ],
      "metadata": {
        "colab": {
          "base_uri": "https://localhost:8080/"
        },
        "id": "ocxNzj_-qrdG",
        "outputId": "d76897c7-de8f-4cde-ece7-7244988a7f29"
      },
      "execution_count": null,
      "outputs": [
        {
          "output_type": "execute_result",
          "data": {
            "text/plain": [
              "array([4. , 2.5, 2. ])"
            ]
          },
          "metadata": {},
          "execution_count": 14
        }
      ]
    },
    {
      "cell_type": "markdown",
      "source": [
        "5.Compute the mean, median, and standard deviation of a NumPy array\n",
        "containing 100 random numbers."
      ],
      "metadata": {
        "id": "ZfLI-XSkq1nv"
      }
    },
    {
      "cell_type": "code",
      "source": [
        "\n",
        "import numpy as np\n",
        "arr = np.random.rand(100)\n",
        "print(arr)\n",
        "mean = np.mean(arr)\n",
        "median = np.median(arr)\n",
        "std_dev = np.std(arr)\n",
        "print(\"Mean:\", mean)\n",
        "print(\"Median:\", median)\n",
        "print(\"Standard Deviation:\", std_dev)"
      ],
      "metadata": {
        "colab": {
          "base_uri": "https://localhost:8080/"
        },
        "id": "L-g7yOCiqtT2",
        "outputId": "d4de795f-3a49-4189-8cca-9106869a7596"
      },
      "execution_count": null,
      "outputs": [
        {
          "output_type": "stream",
          "name": "stdout",
          "text": [
            "[0.77796517 0.56014606 0.60302257 0.70721228 0.9679547  0.43282696\n",
            " 0.58162932 0.44201635 0.18006997 0.44644146 0.66299188 0.48630373\n",
            " 0.35844914 0.17422244 0.71620325 0.43675092 0.82127249 0.40620261\n",
            " 0.00169134 0.29414815 0.13483147 0.82456305 0.0259332  0.88006263\n",
            " 0.50588416 0.26457438 0.30857668 0.34619706 0.11353375 0.20853398\n",
            " 0.12460021 0.31752224 0.10580835 0.80058355 0.43073775 0.05162602\n",
            " 0.18335861 0.17803462 0.74554235 0.12752625 0.33770299 0.10864462\n",
            " 0.10054142 0.66439506 0.18168445 0.36035095 0.46703138 0.63930224\n",
            " 0.68940986 0.39245847 0.37151945 0.26022701 0.50645269 0.03237896\n",
            " 0.07630321 0.97425918 0.51401755 0.1002333  0.71524557 0.22595947\n",
            " 0.47001958 0.41489357 0.63816255 0.83457396 0.42077128 0.47947854\n",
            " 0.13188347 0.88483403 0.54587529 0.28905571 0.5648335  0.75635847\n",
            " 0.71145914 0.28154424 0.15167059 0.96941897 0.35055422 0.21017259\n",
            " 0.90902253 0.55888668 0.81001388 0.41805674 0.47237247 0.32368541\n",
            " 0.7055643  0.83799847 0.96376612 0.62309021 0.52795407 0.99210958\n",
            " 0.11429627 0.80068241 0.62546735 0.16230079 0.96182228 0.42708879\n",
            " 0.49829889 0.83185404 0.83837333 0.94768262]\n",
            "Mean: 0.47909615847063997\n",
            "Median: 0.4567364188769144\n",
            "Standard Deviation: 0.27550251558012223\n"
          ]
        }
      ]
    },
    {
      "cell_type": "markdown",
      "source": [
        "6. Reshape a 1D NumPy array of 12 random elements into a 2D array with a\n",
        "shape of (3, 4)"
      ],
      "metadata": {
        "id": "x49Y3A6PsOU_"
      }
    },
    {
      "cell_type": "code",
      "source": [
        "arr2=np.random.randint(0,20,12)"
      ],
      "metadata": {
        "id": "PyxZxjbnr3Ym"
      },
      "execution_count": null,
      "outputs": []
    },
    {
      "cell_type": "code",
      "source": [
        "arr2"
      ],
      "metadata": {
        "colab": {
          "base_uri": "https://localhost:8080/"
        },
        "id": "fe3iAtcvsMSG",
        "outputId": "956f7da5-9345-4294-f475-267f9c41bd77"
      },
      "execution_count": null,
      "outputs": [
        {
          "output_type": "execute_result",
          "data": {
            "text/plain": [
              "array([4, 5, 6])"
            ]
          },
          "metadata": {},
          "execution_count": 19
        }
      ]
    },
    {
      "cell_type": "code",
      "source": [
        "arr2.reshape(3,4)"
      ],
      "metadata": {
        "colab": {
          "base_uri": "https://localhost:8080/"
        },
        "id": "kZUPKL0hsZk2",
        "outputId": "ce81403d-95f3-42ac-aee1-ecfdfc1c50fd"
      },
      "execution_count": null,
      "outputs": [
        {
          "output_type": "execute_result",
          "data": {
            "text/plain": [
              "array([[ 8,  9, 13,  2],\n",
              "       [ 0, 18,  8,  6],\n",
              "       [18,  2,  1,  4]])"
            ]
          },
          "metadata": {},
          "execution_count": 22
        }
      ]
    },
    {
      "cell_type": "markdown",
      "source": [
        "7. Given a NumPy array arr = np.array([1, 2, 3, 4, 5]), square each element in\n",
        "the array using NumPy functions."
      ],
      "metadata": {
        "id": "jUnijY17swE3"
      }
    },
    {
      "cell_type": "code",
      "source": [
        "arr=np.array([1,2,3,4,5])"
      ],
      "metadata": {
        "id": "NJ_ybaEWsk02"
      },
      "execution_count": null,
      "outputs": []
    },
    {
      "cell_type": "code",
      "source": [
        "np.sqrt(arr)"
      ],
      "metadata": {
        "colab": {
          "base_uri": "https://localhost:8080/"
        },
        "id": "jNiLtpbJs2Em",
        "outputId": "48675912-a660-4f6d-f705-48896afcb89e"
      },
      "execution_count": null,
      "outputs": [
        {
          "output_type": "execute_result",
          "data": {
            "text/plain": [
              "array([1.        , 1.41421356, 1.73205081, 2.        , 2.23606798])"
            ]
          },
          "metadata": {},
          "execution_count": 24
        }
      ]
    },
    {
      "cell_type": "markdown",
      "source": [
        "8. Create a 5x5 identity matrix using NumPy."
      ],
      "metadata": {
        "id": "64XKHzTjtLv3"
      }
    },
    {
      "cell_type": "code",
      "source": [
        "np.eye(5,5)"
      ],
      "metadata": {
        "colab": {
          "base_uri": "https://localhost:8080/"
        },
        "id": "GR98Krqks5TW",
        "outputId": "95b17cea-041b-434a-e598-cba7759e16a4"
      },
      "execution_count": null,
      "outputs": [
        {
          "output_type": "execute_result",
          "data": {
            "text/plain": [
              "array([[1., 0., 0., 0., 0.],\n",
              "       [0., 1., 0., 0., 0.],\n",
              "       [0., 0., 1., 0., 0.],\n",
              "       [0., 0., 0., 1., 0.],\n",
              "       [0., 0., 0., 0., 1.]])"
            ]
          },
          "metadata": {},
          "execution_count": 25
        }
      ]
    },
    {
      "cell_type": "markdown",
      "source": [
        "9. Calculate the dot product of two NumPy arrays, a = np.array([1, 2, 3]) and\n",
        "b = np.array([4, 5, 6])."
      ],
      "metadata": {
        "id": "8YAv5ZdctYHa"
      }
    },
    {
      "cell_type": "code",
      "source": [
        "a=np.array([1,2,3])\n",
        "b=np.array([4,5,6])\n",
        "a*b"
      ],
      "metadata": {
        "colab": {
          "base_uri": "https://localhost:8080/"
        },
        "id": "pwoZa7__tQof",
        "outputId": "bea69630-e020-4871-8038-fcde53032093"
      },
      "execution_count": null,
      "outputs": [
        {
          "output_type": "execute_result",
          "data": {
            "text/plain": [
              "array([ 4, 10, 18])"
            ]
          },
          "metadata": {},
          "execution_count": 26
        }
      ]
    },
    {
      "cell_type": "markdown",
      "source": [
        "10.Find the index of the maximum value and the index of the minimum value\n",
        "in a NumPy array."
      ],
      "metadata": {
        "id": "TyWvYnjquGa3"
      }
    },
    {
      "cell_type": "code",
      "source": [
        "arr2=np.arange(0,21)"
      ],
      "metadata": {
        "id": "I5ayve4ptXAK"
      },
      "execution_count": null,
      "outputs": []
    },
    {
      "cell_type": "code",
      "source": [
        "arr2.reshape(3,7)"
      ],
      "metadata": {
        "colab": {
          "base_uri": "https://localhost:8080/"
        },
        "id": "2jsw20-3ulpG",
        "outputId": "eea18471-eb16-45c3-cf3d-aa1ecebee68d"
      },
      "execution_count": null,
      "outputs": [
        {
          "output_type": "execute_result",
          "data": {
            "text/plain": [
              "array([[ 0,  1,  2,  3,  4,  5,  6],\n",
              "       [ 7,  8,  9, 10, 11, 12, 13],\n",
              "       [14, 15, 16, 17, 18, 19, 20]])"
            ]
          },
          "metadata": {},
          "execution_count": 31
        }
      ]
    },
    {
      "cell_type": "code",
      "source": [
        "arr2.max()"
      ],
      "metadata": {
        "id": "05vxvE3AuoaW"
      },
      "execution_count": null,
      "outputs": []
    },
    {
      "cell_type": "code",
      "source": [
        "arr2.min()"
      ],
      "metadata": {
        "colab": {
          "base_uri": "https://localhost:8080/"
        },
        "id": "oTtnMOgvuv6m",
        "outputId": "6d91e332-8cee-4133-fe8d-33441dc0dfc8"
      },
      "execution_count": null,
      "outputs": [
        {
          "output_type": "execute_result",
          "data": {
            "text/plain": [
              "0"
            ]
          },
          "metadata": {},
          "execution_count": 47
        }
      ]
    },
    {
      "cell_type": "markdown",
      "source": [
        "11.Concatenate two random NumPy arrays horizontally and vertically.\n"
      ],
      "metadata": {
        "id": "jcg6osHRvLpW"
      }
    },
    {
      "cell_type": "code",
      "source": [
        "a=np.zeros((3,3))"
      ],
      "metadata": {
        "id": "dIb9606hvHfm"
      },
      "execution_count": null,
      "outputs": []
    },
    {
      "cell_type": "code",
      "source": [
        "b=np.ones((3,3))"
      ],
      "metadata": {
        "id": "xVrTG4J5vcs2"
      },
      "execution_count": null,
      "outputs": []
    },
    {
      "cell_type": "code",
      "source": [
        "np.vstack([a,b])"
      ],
      "metadata": {
        "colab": {
          "base_uri": "https://localhost:8080/"
        },
        "id": "A5elqnb6vipm",
        "outputId": "95d1b3db-2cb3-4527-e02b-ba7b3a6146cc"
      },
      "execution_count": null,
      "outputs": [
        {
          "output_type": "execute_result",
          "data": {
            "text/plain": [
              "array([[0., 0., 0.],\n",
              "       [0., 0., 0.],\n",
              "       [0., 0., 0.],\n",
              "       [1., 1., 1.],\n",
              "       [1., 1., 1.],\n",
              "       [1., 1., 1.]])"
            ]
          },
          "metadata": {},
          "execution_count": 51
        }
      ]
    },
    {
      "cell_type": "code",
      "source": [
        "np.hstack([a,b])"
      ],
      "metadata": {
        "colab": {
          "base_uri": "https://localhost:8080/"
        },
        "id": "6QP6qqV_vnhm",
        "outputId": "5a77bc31-fd40-4fcc-9836-9295e61a6ecb"
      },
      "execution_count": null,
      "outputs": [
        {
          "output_type": "execute_result",
          "data": {
            "text/plain": [
              "array([[0., 0., 0., 1., 1., 1.],\n",
              "       [0., 0., 0., 1., 1., 1.],\n",
              "       [0., 0., 0., 1., 1., 1.]])"
            ]
          },
          "metadata": {},
          "execution_count": 52
        }
      ]
    },
    {
      "cell_type": "markdown",
      "source": [
        "12.Given a 2D NumPy array, calculate the sum of each row and each column\n",
        "separately."
      ],
      "metadata": {
        "id": "VNAMJMCWv06b"
      }
    },
    {
      "cell_type": "code",
      "source": [
        "arr3=np. array([[1,2,3],[4,5,6]])\n",
        "print(arr3)\n",
        "np. sum(arr3,axis=1)"
      ],
      "metadata": {
        "id": "CSQw70shbgsA",
        "colab": {
          "base_uri": "https://localhost:8080/"
        },
        "outputId": "42b71eef-a7c0-4662-bfb7-cd69d723aaac"
      },
      "execution_count": null,
      "outputs": [
        {
          "output_type": "stream",
          "name": "stdout",
          "text": [
            "[[1 2 3]\n",
            " [4 5 6]]\n"
          ]
        },
        {
          "output_type": "execute_result",
          "data": {
            "text/plain": [
              "array([ 6, 15])"
            ]
          },
          "metadata": {},
          "execution_count": 20
        }
      ]
    },
    {
      "cell_type": "code",
      "source": [
        "np.sum(arr3,axis=0)"
      ],
      "metadata": {
        "colab": {
          "base_uri": "https://localhost:8080/"
        },
        "id": "lwJeCxeQQFU4",
        "outputId": "574ce4e6-15aa-4caf-86dd-31eacb3d7be9"
      },
      "execution_count": null,
      "outputs": [
        {
          "output_type": "execute_result",
          "data": {
            "text/plain": [
              "array([5, 7, 9])"
            ]
          },
          "metadata": {},
          "execution_count": 21
        }
      ]
    },
    {
      "cell_type": "markdown",
      "source": [
        "13.Find the common elements between two NumPy arrays."
      ],
      "metadata": {
        "id": "ZNDRJ8cnkOo_"
      }
    },
    {
      "cell_type": "code",
      "source": [
        "import numpy as np\n",
        "array1 =np.array([1, 2, 3, 4, 5])\n",
        "array2 =np.array([4, 5, 6, 7, 8])\n",
        "common_elements = np.intersect1d(array1, array2)\n",
        "\n",
        "print(common_elements)"
      ],
      "metadata": {
        "id": "tR8CYwMUiUuB",
        "colab": {
          "base_uri": "https://localhost:8080/"
        },
        "outputId": "348af238-f153-4d3f-f927-1faf43cafd3e"
      },
      "execution_count": null,
      "outputs": [
        {
          "output_type": "stream",
          "name": "stdout",
          "text": [
            "[4 5]\n"
          ]
        }
      ]
    },
    {
      "cell_type": "markdown",
      "source": [
        "14.Replace all negative values in a NumPy array with zeros."
      ],
      "metadata": {
        "id": "qwHbEFVnkIbX"
      }
    },
    {
      "cell_type": "code",
      "source": [
        "import numpy as np\n",
        "array = np.array([-1, 2, -3, 4, -5])\n",
        "array = np.where(array < 0, 0, array)\n",
        "\n",
        "print(array)"
      ],
      "metadata": {
        "id": "x2sJ_S2_jsgM",
        "outputId": "c8cc98ce-d302-43ca-aa5a-4ccc27ba3df8",
        "colab": {
          "base_uri": "https://localhost:8080/"
        }
      },
      "execution_count": null,
      "outputs": [
        {
          "output_type": "stream",
          "name": "stdout",
          "text": [
            "[0 2 0 4 0]\n"
          ]
        }
      ]
    },
    {
      "cell_type": "markdown",
      "source": [
        "15.Create a NumPy array with random integers between 1 and 100 and then\n",
        "sort it in ascending order."
      ],
      "metadata": {
        "id": "1kf0MEg6loit"
      }
    },
    {
      "cell_type": "code",
      "source": [
        "import numpy as np\n",
        "array = np.random.randint(1, 101, size=10)\n",
        "Print\n",
        "array.sort()\n",
        "print(array)"
      ],
      "metadata": {
        "colab": {
          "base_uri": "https://localhost:8080/"
        },
        "id": "2G0hbT1xlJXZ",
        "outputId": "00a9485b-4c32-4b64-f49e-5093129978bf"
      },
      "execution_count": null,
      "outputs": [
        {
          "output_type": "stream",
          "name": "stdout",
          "text": [
            "[14 22 24 26 33 46 47 51 73 88]\n"
          ]
        }
      ]
    },
    {
      "cell_type": "markdown",
      "source": [
        "16.Calculate the element-wise absolute difference between two NumPy\n",
        "arrays."
      ],
      "metadata": {
        "id": "r77jWceVnsei"
      }
    },
    {
      "cell_type": "code",
      "source": [
        "\n",
        "import numpy as np\n",
        "array1 = np.array([1, 2, 3, 4, 5])\n",
        "array2 = np.array([5, 4, 3, 2, 1])\n",
        "print(array1)\n",
        "print(array2)\n",
        "abs_diff = np.abs(array1 - array2)\n",
        "print(' absolute difference ')\n",
        "print(abs_diff)"
      ],
      "metadata": {
        "colab": {
          "base_uri": "https://localhost:8080/"
        },
        "id": "LGa4mSf_nIpY",
        "outputId": "c5c8dbcb-60b8-487e-d323-22e62b271ff1"
      },
      "execution_count": null,
      "outputs": [
        {
          "output_type": "stream",
          "name": "stdout",
          "text": [
            "[1 2 3 4 5]\n",
            "[5 4 3 2 1]\n",
            " absolute difference \n",
            "[4 2 0 2 4]\n"
          ]
        }
      ]
    },
    {
      "cell_type": "markdown",
      "source": [
        "17.Given a 2D NumPy array, extract the first row and the last column."
      ],
      "metadata": {
        "id": "t7e4QjA9Bgle"
      }
    },
    {
      "cell_type": "code",
      "source": [
        "\n",
        "import numpy as np\n",
        "arr = np.array([[1, 2, 3],\n",
        "                [4, 5, 6],\n",
        "                [7, 8, 9]])\n",
        "first_row = arr[0, :]\n",
        "last_column = arr[:, -1]\n",
        "print(first_row)\n",
        "print(last_column)"
      ],
      "metadata": {
        "id": "uLi-bJN3Bhiz",
        "colab": {
          "base_uri": "https://localhost:8080/"
        },
        "outputId": "55ec9776-f13c-4414-9917-0bb36adbbc65"
      },
      "execution_count": null,
      "outputs": [
        {
          "output_type": "stream",
          "name": "stdout",
          "text": [
            "[1 2 3]\n",
            "[3 6 9]\n"
          ]
        }
      ]
    },
    {
      "cell_type": "markdown",
      "source": [
        "18.Slice a 1D NumPy array to get every other element."
      ],
      "metadata": {
        "id": "bwUM09yVO7t7"
      }
    },
    {
      "cell_type": "code",
      "source": [
        "\n",
        "import numpy as np\n",
        "arr = np.array([1, 2, 3, 4, 5, 6, 7, 8, 9])\n",
        "every_other_element = arr[::2]\n",
        "print(every_other_element)"
      ],
      "metadata": {
        "colab": {
          "base_uri": "https://localhost:8080/"
        },
        "id": "9UGHoHfkIK8p",
        "outputId": "656b6da6-083d-4222-f349-48fd805fa935"
      },
      "execution_count": null,
      "outputs": [
        {
          "output_type": "stream",
          "name": "stdout",
          "text": [
            "[1 3 5 7 9]\n"
          ]
        }
      ]
    },
    {
      "cell_type": "markdown",
      "source": [
        "19.Given a 2D NumPy array, extract a subarray consisting of the central 2x2\n",
        "elements."
      ],
      "metadata": {
        "id": "7AWVH4tGJ4hH"
      }
    },
    {
      "cell_type": "code",
      "source": [
        "\n",
        "import numpy as np\n",
        "arr = np.array([[1, 2, 3, 4],\n",
        "                [5, 6, 7,8]])\n",
        "row, columns=arr.shape\n",
        "start_row = row // 2 - 1\n",
        "end_row = start_row + 2\n",
        "start_column = columns // 2 - 1\n",
        "end_column = start_column + 2\n",
        "subarray = arr[start_row:end_row, start_column:end_column]\n",
        "print(subarray)"
      ],
      "metadata": {
        "colab": {
          "base_uri": "https://localhost:8080/"
        },
        "id": "UlIyCsPCMAZF",
        "outputId": "fc163582-a572-4cf9-eb44-ec9c0cb3ba83"
      },
      "execution_count": null,
      "outputs": [
        {
          "output_type": "stream",
          "name": "stdout",
          "text": [
            "[[2 3]\n",
            " [6 7]]\n"
          ]
        }
      ]
    },
    {
      "cell_type": "markdown",
      "source": [
        "20.Reverse a 1D NumPy array using slicing"
      ],
      "metadata": {
        "id": "F89yhbr9OKRn"
      }
    },
    {
      "cell_type": "code",
      "source": [
        "\n",
        "import numpy as np\n",
        "arr = np.array([1, 2, 3, 4, 5])\n",
        "print(arr)\n",
        "reversed_arr = arr[::-1]\n",
        "print(reversed_arr)"
      ],
      "metadata": {
        "colab": {
          "base_uri": "https://localhost:8080/"
        },
        "id": "bk0nICBsNpPS",
        "outputId": "459914e2-9638-49e3-97bd-120cc1154442"
      },
      "execution_count": null,
      "outputs": [
        {
          "output_type": "stream",
          "name": "stdout",
          "text": [
            "[1 2 3 4 5]\n",
            "[5 4 3 2 1]\n"
          ]
        }
      ]
    }
  ]
}