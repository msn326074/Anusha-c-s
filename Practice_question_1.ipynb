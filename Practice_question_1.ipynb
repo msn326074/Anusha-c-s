{
  "nbformat": 4,
  "nbformat_minor": 0,
  "metadata": {
    "colab": {
      "provenance": []
    },
    "kernelspec": {
      "name": "python3",
      "display_name": "Python 3"
    },
    "language_info": {
      "name": "python"
    }
  },
  "cells": [
    {
      "cell_type": "code",
      "execution_count": null,
      "metadata": {
        "colab": {
          "base_uri": "https://localhost:8080/"
        },
        "id": "LbPAnCzMkSov",
        "outputId": "38941551-9754-41bf-ebfd-e4cc667a65aa"
      },
      "outputs": [
        {
          "output_type": "stream",
          "name": "stdout",
          "text": [
            "enter first number:5\n",
            "enter second number:4\n",
            "9\n"
          ]
        }
      ],
      "source": [
        "#input function\n",
        "a=int(input(\"enter first number:\"))\n",
        "b=int(input(\"enter second number:\"))\n",
        "s=a+b\n",
        "print(s)"
      ]
    },
    {
      "cell_type": "markdown",
      "source": [],
      "metadata": {
        "id": "IhGOxB4p8fGK"
      }
    },
    {
      "cell_type": "code",
      "source": [
        "#input function\n",
        "a=int(input(\"enter first number:\"))\n",
        "b=int(input(\"enter second number:\"))\n",
        "s=a*b\n",
        "print(s)"
      ],
      "metadata": {
        "colab": {
          "base_uri": "https://localhost:8080/"
        },
        "id": "-0xiaah3kj4p",
        "outputId": "d7b73a91-e98a-42f5-f44c-c7f4979adc48"
      },
      "execution_count": null,
      "outputs": [
        {
          "output_type": "stream",
          "name": "stdout",
          "text": [
            "enter first number:2\n",
            "enter second number:4\n",
            "8\n"
          ]
        }
      ]
    },
    {
      "cell_type": "code",
      "source": [
        "#input function\n",
        "a=int(input(\"enter first number:\"))\n",
        "b=int(input(\"enter second number:\"))\n",
        "q=a/b\n",
        "r=a%b\n",
        "print(q)\n",
        "print(r)"
      ],
      "metadata": {
        "colab": {
          "base_uri": "https://localhost:8080/"
        },
        "id": "S_-uBCMek52p",
        "outputId": "56bb6742-f340-4b6f-f4e2-2ae8a2302462"
      },
      "execution_count": null,
      "outputs": [
        {
          "output_type": "stream",
          "name": "stdout",
          "text": [
            "enter first number:4\n",
            "enter second number:2\n",
            "2.0\n",
            "0\n"
          ]
        }
      ]
    },
    {
      "cell_type": "code",
      "source": [
        "s1='anusha'"
      ],
      "metadata": {
        "id": "wy9lyB6qmK01"
      },
      "execution_count": null,
      "outputs": []
    },
    {
      "cell_type": "code",
      "source": [
        "len(s1)"
      ],
      "metadata": {
        "colab": {
          "base_uri": "https://localhost:8080/"
        },
        "id": "iZO-YE2DmRcG",
        "outputId": "7922a216-ea1f-4c45-bb73-aea92ce88a8c"
      },
      "execution_count": null,
      "outputs": [
        {
          "output_type": "execute_result",
          "data": {
            "text/plain": [
              "6"
            ]
          },
          "metadata": {},
          "execution_count": 5
        }
      ]
    },
    {
      "cell_type": "code",
      "source": [
        "\n",
        "string = input(\"Enter a string: \")\n",
        "character = input(\"Enter a character to find: \")\n",
        "count = 0\n",
        "for char in string:\n",
        "    if char == character:\n",
        "        count += 1\n",
        "print(\"The character\", character, \"occurs\", count, \"times in the string.\")"
      ],
      "metadata": {
        "id": "3BxfD7aKPMAt",
        "colab": {
          "base_uri": "https://localhost:8080/"
        },
        "outputId": "4aee205f-314f-4b2d-83d3-b528f997e606"
      },
      "execution_count": null,
      "outputs": [
        {
          "output_type": "stream",
          "name": "stdout",
          "text": [
            "Enter a string: ANUSHA \n",
            "Enter a character to find: A\n",
            "The character A occurs 2 times in the string.\n"
          ]
        }
      ]
    },
    {
      "cell_type": "code",
      "source": [
        "s2='aNusha'"
      ],
      "metadata": {
        "id": "aZTzerplmUu0"
      },
      "execution_count": null,
      "outputs": []
    },
    {
      "cell_type": "code",
      "source": [
        "s2.upper()"
      ],
      "metadata": {
        "colab": {
          "base_uri": "https://localhost:8080/",
          "height": 35
        },
        "id": "jGqW-fhKDXpg",
        "outputId": "5a8e03f6-82df-46bf-ee0c-3e84c8f4fd09"
      },
      "execution_count": null,
      "outputs": [
        {
          "output_type": "execute_result",
          "data": {
            "text/plain": [
              "'ANUSHA'"
            ],
            "application/vnd.google.colaboratory.intrinsic+json": {
              "type": "string"
            }
          },
          "metadata": {},
          "execution_count": 2
        }
      ]
    },
    {
      "cell_type": "code",
      "source": [
        "s2.lower()"
      ],
      "metadata": {
        "colab": {
          "base_uri": "https://localhost:8080/",
          "height": 35
        },
        "id": "j-Vs_tCmDckW",
        "outputId": "f7f1d66c-a991-4c55-9eab-4c9f3b058c0b"
      },
      "execution_count": null,
      "outputs": [
        {
          "output_type": "execute_result",
          "data": {
            "text/plain": [
              "'anusha'"
            ],
            "application/vnd.google.colaboratory.intrinsic+json": {
              "type": "string"
            }
          },
          "metadata": {},
          "execution_count": 3
        }
      ]
    },
    {
      "cell_type": "code",
      "source": [],
      "metadata": {
        "id": "xzRniTQHDibK"
      },
      "execution_count": null,
      "outputs": []
    }
  ]
}