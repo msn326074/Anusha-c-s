{
  "nbformat": 4,
  "nbformat_minor": 0,
  "metadata": {
    "colab": {
      "provenance": []
    },
    "kernelspec": {
      "name": "python3",
      "display_name": "Python 3"
    },
    "language_info": {
      "name": "python"
    }
  },
  "cells": [
    {
      "cell_type": "code",
      "execution_count": null,
      "metadata": {
        "colab": {
          "base_uri": "https://localhost:8080/"
        },
        "id": "3RIRe_Dh9sZm",
        "outputId": "8120ccd1-8a4b-46fd-f02c-d3d0aa08d430"
      },
      "outputs": [
        {
          "output_type": "stream",
          "name": "stdout",
          "text": [
            "enter l:4\n",
            "enter b:3\n",
            "12\n"
          ]
        }
      ],
      "source": [
        "#input function\n",
        "l=int(input('enter l:'))\n",
        "b=int(input('enter b:'))\n",
        "a=(l*b)\n",
        "print(a)"
      ]
    },
    {
      "cell_type": "code",
      "source": [
        "#input function\n",
        "a=int(input(\"enter a number:\"))\n",
        "b=int(input(\"enter b number:\"))\n",
        "s=(a+b)\n",
        "print(s)\n",
        "d=(a-b)\n",
        "print(d)\n",
        "p=(a*b)\n",
        "print(p)\n",
        "r=(a/b)\n",
        "print(r)"
      ],
      "metadata": {
        "id": "rRCyQKzPJdDL",
        "colab": {
          "base_uri": "https://localhost:8080/"
        },
        "outputId": "96bd6327-f316-4e5e-d491-bf141cb112fc"
      },
      "execution_count": null,
      "outputs": [
        {
          "output_type": "stream",
          "name": "stdout",
          "text": [
            "enter a number:12\n",
            "enter b number:4\n",
            "16\n",
            "8\n",
            "48\n",
            "3.0\n"
          ]
        }
      ]
    },
    {
      "cell_type": "code",
      "source": [
        "F=float(input('enter a number :'))\n",
        "C=(F-32)*5/9\n",
        "print(C)"
      ],
      "metadata": {
        "id": "oSvcZpxvQBF4",
        "colab": {
          "base_uri": "https://localhost:8080/"
        },
        "outputId": "a895ff21-cb58-4b36-db6e-fcec607dbfa2"
      },
      "execution_count": null,
      "outputs": [
        {
          "output_type": "stream",
          "name": "stdout",
          "text": [
            "enter a number :50\n",
            "10.0\n"
          ]
        }
      ]
    },
    {
      "cell_type": "code",
      "source": [
        "C=float(input('enter a number:'))\n",
        "F=(C*9/5)+32\n",
        "print(F)"
      ],
      "metadata": {
        "id": "DQ0rUuaGdTer",
        "colab": {
          "base_uri": "https://localhost:8080/"
        },
        "outputId": "e4487207-c0a6-41a4-b549-2d5d883d275e"
      },
      "execution_count": null,
      "outputs": [
        {
          "output_type": "stream",
          "name": "stdout",
          "text": [
            "enter a number:30\n",
            "86.0\n"
          ]
        }
      ]
    },
    {
      "cell_type": "code",
      "source": [
        "num= float(input('enter a number :'))\n",
        "if num >0:\n",
        " print(\"positive \")\n",
        "elif num>0:\n",
        " print (\"negative\")\n",
        "else:\n",
        " print(\"zero\")"
      ],
      "metadata": {
        "id": "daxvuQODwKqk",
        "colab": {
          "base_uri": "https://localhost:8080/"
        },
        "outputId": "66ae6527-3fb8-467f-a680-7429ee14d3b8"
      },
      "execution_count": null,
      "outputs": [
        {
          "output_type": "stream",
          "name": "stdout",
          "text": [
            "enter a number :4\n",
            "positive \n"
          ]
        }
      ]
    },
    {
      "cell_type": "code",
      "source": [
        "y=int(input ('enter a year :'))\n",
        "if y%4==0:\n",
        " print('it is a leap year')\n",
        "elif y%4!=0:\n",
        " print ('it is not a leap year ')\n",
        "elif y%400==0:\n",
        " print('it is  a leap year')\n",
        "elif y%400!=0:\n",
        " print ('it is not a leap year ')"
      ],
      "metadata": {
        "id": "1OFQ_p8IeHIz",
        "colab": {
          "base_uri": "https://localhost:8080/"
        },
        "outputId": "548fd519-a4b8-4bc8-c226-4adc265115e4"
      },
      "execution_count": null,
      "outputs": [
        {
          "output_type": "stream",
          "name": "stdout",
          "text": [
            "enter a year :2008\n",
            "it is a leap year\n"
          ]
        }
      ]
    },
    {
      "cell_type": "code",
      "source": [
        "for n in range(10,0,-1):\n",
        "  print(n)"
      ],
      "metadata": {
        "id": "V85yEMX4YMzT",
        "outputId": "d4966b4c-4f91-4199-9f49-1321360d5eb8",
        "colab": {
          "base_uri": "https://localhost:8080/"
        }
      },
      "execution_count": null,
      "outputs": [
        {
          "output_type": "stream",
          "name": "stdout",
          "text": [
            "10\n",
            "9\n",
            "8\n",
            "7\n",
            "6\n",
            "5\n",
            "4\n",
            "3\n",
            "2\n",
            "1\n"
          ]
        }
      ]
    },
    {
      "cell_type": "code",
      "source": [
        "\n",
        "mark = int(input(\"Enter your mark: \"))\n",
        "\n",
        "if mark >= 90:\n",
        "    print(\"A\")\n",
        "elif mark >= 80:\n",
        "    print(\"B\")\n",
        "elif mark >= 70:\n",
        "    print(\"C\")\n",
        "elif mark >= 60:\n",
        "    print(\"D\")\n",
        "else:\n",
        "    print(\"F\")"
      ],
      "metadata": {
        "id": "pgwBKUFbb2_a",
        "colab": {
          "base_uri": "https://localhost:8080/"
        },
        "outputId": "a9010418-238b-4410-e859-490d94c41924"
      },
      "execution_count": null,
      "outputs": [
        {
          "output_type": "stream",
          "name": "stdout",
          "text": [
            "Enter your mark: 75\n",
            "C\n"
          ]
        }
      ]
    },
    {
      "cell_type": "code",
      "source": [
        "for n in range(2,20,2):\n",
        "  print(n)"
      ],
      "metadata": {
        "colab": {
          "base_uri": "https://localhost:8080/"
        },
        "id": "HP-utFITakaq",
        "outputId": "ab6e99cd-9c20-46ed-8dc0-192136b7f962"
      },
      "execution_count": null,
      "outputs": [
        {
          "output_type": "stream",
          "name": "stdout",
          "text": [
            "2\n",
            "4\n",
            "6\n",
            "8\n",
            "10\n",
            "12\n",
            "14\n",
            "16\n",
            "18\n"
          ]
        }
      ]
    },
    {
      "cell_type": "code",
      "source": [
        "\n",
        "num = int(input(\"Enter a number: \"))\n",
        "\n",
        "for i in range(1, 11):\n",
        "    print(num, \"x\", i, \"=\", num*i)"
      ],
      "metadata": {
        "id": "omBf6dvjb4Y0",
        "outputId": "e64550f0-b48d-438b-b598-5c30b73d8c64",
        "colab": {
          "base_uri": "https://localhost:8080/"
        }
      },
      "execution_count": null,
      "outputs": [
        {
          "output_type": "stream",
          "name": "stdout",
          "text": [
            "Enter a number: 5\n",
            "5 x 1 = 5\n",
            "5 x 2 = 10\n",
            "5 x 3 = 15\n",
            "5 x 4 = 20\n",
            "5 x 5 = 25\n",
            "5 x 6 = 30\n",
            "5 x 7 = 35\n",
            "5 x 8 = 40\n",
            "5 x 9 = 45\n",
            "5 x 10 = 50\n"
          ]
        }
      ]
    }
  ]
}